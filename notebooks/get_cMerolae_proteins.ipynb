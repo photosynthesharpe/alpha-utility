{
 "cells": [
  {
   "cell_type": "markdown",
   "id": "c89dd53e-2e20-4deb-aa66-8b6043544ce1",
   "metadata": {},
   "source": [
    "# Get *C. merolae* proteins\n",
    "In this notebook, we'll walk through pulling specific protein sequences from the [*C. merolae* genome website](http://czon.jp)."
   ]
  },
  {
   "cell_type": "code",
   "execution_count": 1,
   "id": "7d06ed6b-d89f-4d3b-9231-35bcc8727064",
   "metadata": {},
   "outputs": [],
   "source": [
    "import pandas as pd\n",
    "from Bio import SeqIO\n",
    "from random import sample"
   ]
  },
  {
   "cell_type": "markdown",
   "id": "760c6fc5-5493-4ac8-97cc-16e1058c899f",
   "metadata": {},
   "source": [
    "## Reading in the ID's to retrieve\n",
    "Next, we need to get the ID's that we want to retrieve from this fasta. This is an excel file that I put in the same directory as this notebook."
   ]
  },
  {
   "cell_type": "code",
   "execution_count": 10,
   "id": "866c3196-d6fd-4954-b305-7367ebc23293",
   "metadata": {},
   "outputs": [
    {
     "data": {
      "text/html": [
       "<div>\n",
       "<style scoped>\n",
       "    .dataframe tbody tr th:only-of-type {\n",
       "        vertical-align: middle;\n",
       "    }\n",
       "\n",
       "    .dataframe tbody tr th {\n",
       "        vertical-align: top;\n",
       "    }\n",
       "\n",
       "    .dataframe thead th {\n",
       "        text-align: right;\n",
       "    }\n",
       "</style>\n",
       "<table border=\"1\" class=\"dataframe\">\n",
       "  <thead>\n",
       "    <tr style=\"text-align: right;\">\n",
       "      <th></th>\n",
       "      <th>ID</th>\n",
       "      <th>Accession</th>\n",
       "      <th>Description</th>\n",
       "      <th>Gene Symbol</th>\n",
       "      <th># Peptides</th>\n",
       "      <th># PSMs</th>\n",
       "      <th># Unique Peptides</th>\n",
       "      <th># Razor Peptides</th>\n",
       "      <th># Razor + Unique Peptides</th>\n",
       "      <th>Abundance: F4: Control, CMC-1</th>\n",
       "      <th>...</th>\n",
       "      <th>CM_vs_CMC_p.val</th>\n",
       "      <th>Significant</th>\n",
       "      <th>Modifications</th>\n",
       "      <th>Biological Process</th>\n",
       "      <th>Cellular Component</th>\n",
       "      <th>Molecular Function</th>\n",
       "      <th>Pfam IDs</th>\n",
       "      <th>Entrez Gene ID</th>\n",
       "      <th>Ensembl Gene ID</th>\n",
       "      <th>Gene ID</th>\n",
       "    </tr>\n",
       "  </thead>\n",
       "  <tbody>\n",
       "    <tr>\n",
       "      <th>0</th>\n",
       "      <td>1040</td>\n",
       "      <td>CMH170CT</td>\n",
       "      <td>pep chromosome:ASM9120v1:8:434390:436165:1 gen...</td>\n",
       "      <td>NaN</td>\n",
       "      <td>11</td>\n",
       "      <td>26</td>\n",
       "      <td>11</td>\n",
       "      <td>0</td>\n",
       "      <td>11</td>\n",
       "      <td>NaN</td>\n",
       "      <td>...</td>\n",
       "      <td>0.000218</td>\n",
       "      <td>True</td>\n",
       "      <td>NaN</td>\n",
       "      <td>NaN</td>\n",
       "      <td>NaN</td>\n",
       "      <td>structural molecule activity</td>\n",
       "      <td>Pf00875</td>\n",
       "      <td>16993496</td>\n",
       "      <td>CMH170C</td>\n",
       "      <td>cme:CYME_CMH170C; CMH170CT; M1V506</td>\n",
       "    </tr>\n",
       "    <tr>\n",
       "      <th>1</th>\n",
       "      <td>1707</td>\n",
       "      <td>CML232CT</td>\n",
       "      <td>pep chromosome:ASM9120v1:12:585688:593560:-1 g...</td>\n",
       "      <td>NaN</td>\n",
       "      <td>2</td>\n",
       "      <td>8</td>\n",
       "      <td>2</td>\n",
       "      <td>0</td>\n",
       "      <td>2</td>\n",
       "      <td>NaN</td>\n",
       "      <td>...</td>\n",
       "      <td>0.000016</td>\n",
       "      <td>True</td>\n",
       "      <td>NaN</td>\n",
       "      <td>cellular homeostasis</td>\n",
       "      <td>NaN</td>\n",
       "      <td>signal transducer activity;structural molecule...</td>\n",
       "      <td>Pf00069</td>\n",
       "      <td>16994657</td>\n",
       "      <td>CML232C</td>\n",
       "      <td>cme:CYME_CML232C; CML232CT; M1VID2</td>\n",
       "    </tr>\n",
       "    <tr>\n",
       "      <th>2</th>\n",
       "      <td>1728</td>\n",
       "      <td>CMR341CT</td>\n",
       "      <td>pep chromosome:ASM9120v1:18:829483:830620:-1 g...</td>\n",
       "      <td>NaN</td>\n",
       "      <td>3</td>\n",
       "      <td>8</td>\n",
       "      <td>3</td>\n",
       "      <td>0</td>\n",
       "      <td>3</td>\n",
       "      <td>NaN</td>\n",
       "      <td>...</td>\n",
       "      <td>0.010425</td>\n",
       "      <td>True</td>\n",
       "      <td>NaN</td>\n",
       "      <td>NaN</td>\n",
       "      <td>cytoskeleton</td>\n",
       "      <td>NaN</td>\n",
       "      <td>Pf02077</td>\n",
       "      <td>16996959</td>\n",
       "      <td>CMR341C</td>\n",
       "      <td>cme:CYME_CMR341C; CMR341CT; M1V6V6</td>\n",
       "    </tr>\n",
       "    <tr>\n",
       "      <th>3</th>\n",
       "      <td>210</td>\n",
       "      <td>CMJ081CT</td>\n",
       "      <td>pep chromosome:ASM9120v1:10:238226:239395:1 ge...</td>\n",
       "      <td>NaN</td>\n",
       "      <td>21</td>\n",
       "      <td>170</td>\n",
       "      <td>21</td>\n",
       "      <td>0</td>\n",
       "      <td>21</td>\n",
       "      <td>2.627261e+07</td>\n",
       "      <td>...</td>\n",
       "      <td>0.000001</td>\n",
       "      <td>True</td>\n",
       "      <td>NaN</td>\n",
       "      <td>cellular homeostasis</td>\n",
       "      <td>nucleus</td>\n",
       "      <td>structural molecule activity</td>\n",
       "      <td>Pf00218</td>\n",
       "      <td>16994164</td>\n",
       "      <td>CMJ081C</td>\n",
       "      <td>cme:CYME_CMJ081C; CMJ081CT; M1VHA0</td>\n",
       "    </tr>\n",
       "    <tr>\n",
       "      <th>4</th>\n",
       "      <td>1337</td>\n",
       "      <td>CMD011CT</td>\n",
       "      <td>pep chromosome:ASM9120v1:4:36287:37357:1 gene:...</td>\n",
       "      <td>NaN</td>\n",
       "      <td>6</td>\n",
       "      <td>16</td>\n",
       "      <td>6</td>\n",
       "      <td>0</td>\n",
       "      <td>6</td>\n",
       "      <td>1.903551e+06</td>\n",
       "      <td>...</td>\n",
       "      <td>0.010680</td>\n",
       "      <td>True</td>\n",
       "      <td>NaN</td>\n",
       "      <td>cellular homeostasis</td>\n",
       "      <td>cytoskeleton;nucleus</td>\n",
       "      <td>structural molecule activity</td>\n",
       "      <td>Pf08241</td>\n",
       "      <td>16992565</td>\n",
       "      <td>CMD011C</td>\n",
       "      <td>A0A7V5I6D0; CMD011CT; cme:CYME_CMD011C; M1VAG6</td>\n",
       "    </tr>\n",
       "  </tbody>\n",
       "</table>\n",
       "<p>5 rows × 40 columns</p>\n",
       "</div>"
      ],
      "text/plain": [
       "     ID Accession                                        Description  \\\n",
       "0  1040  CMH170CT  pep chromosome:ASM9120v1:8:434390:436165:1 gen...   \n",
       "1  1707  CML232CT  pep chromosome:ASM9120v1:12:585688:593560:-1 g...   \n",
       "2  1728  CMR341CT  pep chromosome:ASM9120v1:18:829483:830620:-1 g...   \n",
       "3   210  CMJ081CT  pep chromosome:ASM9120v1:10:238226:239395:1 ge...   \n",
       "4  1337  CMD011CT  pep chromosome:ASM9120v1:4:36287:37357:1 gene:...   \n",
       "\n",
       "  Gene Symbol  # Peptides  # PSMs  # Unique Peptides  # Razor Peptides  \\\n",
       "0         NaN          11      26                 11                 0   \n",
       "1         NaN           2       8                  2                 0   \n",
       "2         NaN           3       8                  3                 0   \n",
       "3         NaN          21     170                 21                 0   \n",
       "4         NaN           6      16                  6                 0   \n",
       "\n",
       "   # Razor + Unique Peptides  Abundance: F4: Control, CMC-1  ...  \\\n",
       "0                         11                            NaN  ...   \n",
       "1                          2                            NaN  ...   \n",
       "2                          3                            NaN  ...   \n",
       "3                         21                   2.627261e+07  ...   \n",
       "4                          6                   1.903551e+06  ...   \n",
       "\n",
       "   CM_vs_CMC_p.val  Significant  Modifications    Biological Process  \\\n",
       "0         0.000218         True            NaN                   NaN   \n",
       "1         0.000016         True            NaN  cellular homeostasis   \n",
       "2         0.010425         True            NaN                   NaN   \n",
       "3         0.000001         True            NaN  cellular homeostasis   \n",
       "4         0.010680         True            NaN  cellular homeostasis   \n",
       "\n",
       "     Cellular Component                                 Molecular Function  \\\n",
       "0                   NaN                       structural molecule activity   \n",
       "1                   NaN  signal transducer activity;structural molecule...   \n",
       "2          cytoskeleton                                                NaN   \n",
       "3               nucleus                       structural molecule activity   \n",
       "4  cytoskeleton;nucleus                       structural molecule activity   \n",
       "\n",
       "   Pfam IDs  Entrez Gene ID  Ensembl Gene ID  \\\n",
       "0   Pf00875        16993496          CMH170C   \n",
       "1   Pf00069        16994657          CML232C   \n",
       "2   Pf02077        16996959          CMR341C   \n",
       "3   Pf00218        16994164          CMJ081C   \n",
       "4   Pf08241        16992565          CMD011C   \n",
       "\n",
       "                                          Gene ID  \n",
       "0              cme:CYME_CMH170C; CMH170CT; M1V506  \n",
       "1              cme:CYME_CML232C; CML232CT; M1VID2  \n",
       "2              cme:CYME_CMR341C; CMR341CT; M1V6V6  \n",
       "3              cme:CYME_CMJ081C; CMJ081CT; M1VHA0  \n",
       "4  A0A7V5I6D0; CMD011CT; cme:CYME_CMD011C; M1VAG6  \n",
       "\n",
       "[5 rows x 40 columns]"
      ]
     },
     "execution_count": 10,
     "metadata": {},
     "output_type": "execute_result"
    }
   ],
   "source": [
    "enriched = pd.read_excel('../data/anne/CmerolaeCoIP_WistarProteomics.xlsx', sheet_name='141 Enriched proteins')\n",
    "enriched.head()"
   ]
  },
  {
   "cell_type": "markdown",
   "id": "00d3e0a4-6673-483d-96f0-4e805a5b37ff",
   "metadata": {},
   "source": [
    "The ID's that correspond to the *C. merolae* genome ID's are in the `Accession` column:"
   ]
  },
  {
   "cell_type": "code",
   "execution_count": 4,
   "id": "43d5e95a-23e4-4af1-8d02-39a56f21207f",
   "metadata": {},
   "outputs": [
    {
     "data": {
      "text/plain": [
       "['CMH170CT', 'CML232CT', 'CMR341CT', 'CMJ081CT', 'CMD011CT']"
      ]
     },
     "execution_count": 4,
     "metadata": {},
     "output_type": "execute_result"
    }
   ],
   "source": [
    "proteins_to_search = enriched.Accession.tolist()\n",
    "proteins_to_search[:5]"
   ]
  },
  {
   "cell_type": "markdown",
   "id": "8d6aa5fb-d7b2-45e3-9521-27b50ac186a1",
   "metadata": {},
   "source": [
    "## Parsing the fasta\n",
    "Now we use `SeqIO` to read in the fasta iteratively, keeping only the proteins that appear in our accession list."
   ]
  },
  {
   "cell_type": "code",
   "execution_count": 5,
   "id": "8f4cc19f-fea9-41d8-be65-56b43a31b558",
   "metadata": {},
   "outputs": [],
   "source": [
    "records = [\n",
    "    r for r in SeqIO.parse('../data/anne/proteins.fasta', 'fasta')\n",
    "    if r.id.split('|')[-1] + 'T' in proteins_to_search # fasta ID's don't have the T at the end for some reason\n",
    "]"
   ]
  },
  {
   "cell_type": "code",
   "execution_count": 6,
   "id": "c1b2cbd1-e76f-4d65-893b-faca29609cd5",
   "metadata": {},
   "outputs": [
    {
     "name": "stdout",
     "output_type": "stream",
     "text": [
      "141 of 141 protein sequences have been recovered.\n"
     ]
    }
   ],
   "source": [
    "print(f'{len(records)} of {len(proteins_to_search)} protein sequences have been recovered.')"
   ]
  },
  {
   "cell_type": "markdown",
   "id": "23c94e4b-c540-409e-962d-ab7003dd49d0",
   "metadata": {},
   "source": [
    "## Saving out the fasta\n",
    "Now we just need to save our results:"
   ]
  },
  {
   "cell_type": "code",
   "execution_count": 7,
   "id": "4afbee07-a28b-424b-ae1e-2790c6dd27fd",
   "metadata": {},
   "outputs": [
    {
     "data": {
      "text/plain": [
       "141"
      ]
     },
     "execution_count": 7,
     "metadata": {},
     "output_type": "execute_result"
    }
   ],
   "source": [
    "SeqIO.write(records, '../data/anne/coIP_proteins.fasta', 'fasta')"
   ]
  },
  {
   "cell_type": "markdown",
   "id": "73b7e323-87a2-4031-bb0d-5882a78ce0cd",
   "metadata": {},
   "source": [
    "Only thing to note here is that I've written them out with the ID that came from the genome, so it also doesn't have a T at the end -- can deal with that later on if need be."
   ]
  },
  {
   "cell_type": "markdown",
   "id": "caaa74aa-d9e1-4c36-9705-bbca5297b4bd",
   "metadata": {},
   "source": [
    "## Random sampling\n",
    "We also want to sample 141 random proteins from the genome, so that we can compare the confidences with those proteins of interest."
   ]
  },
  {
   "cell_type": "code",
   "execution_count": 4,
   "id": "3eb12ada-e5fe-43f6-b6d7-14cc90742cc9",
   "metadata": {},
   "outputs": [],
   "source": [
    "all_records = [\n",
    "    r for r in SeqIO.parse('/mnt/research/Walker_Lab_Research/Serena_project_data/alpha_utility_data/data/anne/proteins.fasta', 'fasta')\n",
    "]"
   ]
  },
  {
   "cell_type": "code",
   "execution_count": 7,
   "id": "8ee0b2d4-c18a-43b2-b19f-2ad7f685301b",
   "metadata": {},
   "outputs": [],
   "source": [
    "random_records = sample(all_records, 141)"
   ]
  },
  {
   "cell_type": "code",
   "execution_count": 10,
   "id": "75825374-538a-42f8-a46f-fed2836f161a",
   "metadata": {},
   "outputs": [
    {
     "data": {
      "text/plain": [
       "141"
      ]
     },
     "execution_count": 10,
     "metadata": {},
     "output_type": "execute_result"
    }
   ],
   "source": [
    "SeqIO.write(random_records, '/mnt/research/Walker_Lab_Research/Serena_project_data/alpha_utility_data/data/anne/random141_proteins.fasta', 'fasta')"
   ]
  }
 ],
 "metadata": {
  "kernelspec": {
   "display_name": "omics",
   "language": "python",
   "name": "omics"
  },
  "language_info": {
   "codemirror_mode": {
    "name": "ipython",
    "version": 3
   },
   "file_extension": ".py",
   "mimetype": "text/x-python",
   "name": "python",
   "nbconvert_exporter": "python",
   "pygments_lexer": "ipython3",
   "version": "3.10.16"
  }
 },
 "nbformat": 4,
 "nbformat_minor": 5
}
